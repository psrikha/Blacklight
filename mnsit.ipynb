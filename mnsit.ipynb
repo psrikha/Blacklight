{
 "cells": [
  {
   "cell_type": "markdown",
   "metadata": {},
   "source": [
    "# Data preparation"
   ]
  },
  {
   "cell_type": "code",
   "execution_count": 1,
   "metadata": {},
   "outputs": [
    {
     "name": "stdout",
     "output_type": "stream",
     "text": [
      "Collecting package metadata (current_repodata.json): done\n",
      "Solving environment: \\ \n",
      "The environment is inconsistent, please check the package plan carefully\n",
      "The following packages are causing the inconsistency:\n",
      "\n",
      "  - defaults/osx-64::holoviews==1.15.0=py39hecd8cb5_0\n",
      "  - defaults/noarch::babel==2.9.1=pyhd3eb1b0_0\n",
      "  - defaults/noarch::nbclassic==0.3.5=pyhd3eb1b0_0\n",
      "  - defaults/noarch::cookiecutter==1.7.3=pyhd3eb1b0_0\n",
      "  - defaults/osx-64::anaconda-project==0.11.1=py39hecd8cb5_0\n",
      "  - defaults/osx-64::applaunchservices==0.3.0=py39hecd8cb5_0\n",
      "  - defaults/noarch::pyls-spyder==0.4.0=pyhd3eb1b0_0\n",
      "  - defaults/osx-64::jupyterlab==3.4.4=py39hecd8cb5_0\n",
      "  - defaults/osx-64::datashader==0.14.1=py39hecd8cb5_0\n",
      "  - defaults/osx-64::anaconda==2022.10=py39_0\n",
      "  - defaults/osx-64::hvplot==0.8.0=py39hecd8cb5_0\n",
      "  - defaults/osx-64::python-lsp-black==1.2.1=py39hecd8cb5_0\n",
      "  - defaults/osx-64::bkcharts==0.2=py39hecd8cb5_1\n",
      "  - defaults/osx-64::conda-build==3.22.0=py39hecd8cb5_0\n",
      "  - defaults/osx-64::anaconda-navigator==2.3.2=py39hecd8cb5_0\n",
      "  - defaults/osx-64::_ipyw_jlab_nb_ext_conf==0.1.0=py39hecd8cb5_1\n",
      "  - defaults/osx-64::python-lsp-server==1.5.0=py39hecd8cb5_0\n",
      "  - defaults/osx-64::statsmodels==0.13.2=py39hca72f7f_0\n",
      "  - defaults/osx-64::pylint==2.14.5=py39hecd8cb5_0\n",
      "  - defaults/osx-64::dask==2022.7.0=py39hecd8cb5_0\n",
      "  - defaults/osx-64::jupyter_server==1.18.1=py39hecd8cb5_0\n",
      "  - defaults/osx-64::anaconda-client==1.11.0=py39hecd8cb5_0\n",
      "  - defaults/noarch::jupyterlab_server==2.10.3=pyhd3eb1b0_1\n",
      "  - defaults/osx-64::numpydoc==1.4.0=py39hecd8cb5_0\n",
      "  - defaults/noarch::flask==1.1.2=pyhd3eb1b0_0\n",
      "  - defaults/noarch::intake==0.6.5=pyhd3eb1b0_0\n",
      "  - defaults/osx-64::pandas==1.4.4=py39he9d5cce_0\n",
      "  - defaults/osx-64::jupyter==1.0.0=py39hecd8cb5_8\n",
      "  - defaults/noarch::ipywidgets==7.6.5=pyhd3eb1b0_1\n",
      "  - defaults/osx-64::conda-repo-cli==1.0.20=py39hecd8cb5_0\n",
      "  - defaults/noarch::seaborn==0.11.2=pyhd3eb1b0_0\n",
      "  - defaults/osx-64::spyder==5.3.3=py39hecd8cb5_0\n",
      "  - defaults/osx-64::notebook==6.4.12=py39hecd8cb5_0\n",
      "  - defaults/osx-64::widgetsnbextension==3.5.2=py39hecd8cb5_0\n",
      "  - defaults/noarch::xarray==0.20.1=pyhd3eb1b0_1\n",
      "failed with initial frozen solve. Retrying with flexible solve.\n",
      "Solving environment: failed with repodata from current_repodata.json, will retry with next repodata source.\n",
      "Collecting package metadata (repodata.json): done\n",
      "Solving environment: | \n",
      "The environment is inconsistent, please check the package plan carefully\n",
      "The following packages are causing the inconsistency:\n",
      "\n",
      "  - defaults/osx-64::holoviews==1.15.0=py39hecd8cb5_0\n",
      "  - defaults/noarch::babel==2.9.1=pyhd3eb1b0_0\n",
      "  - defaults/noarch::nbclassic==0.3.5=pyhd3eb1b0_0\n",
      "  - defaults/noarch::cookiecutter==1.7.3=pyhd3eb1b0_0\n",
      "  - defaults/osx-64::anaconda-project==0.11.1=py39hecd8cb5_0\n",
      "  - defaults/osx-64::applaunchservices==0.3.0=py39hecd8cb5_0\n",
      "  - defaults/noarch::pyls-spyder==0.4.0=pyhd3eb1b0_0\n",
      "  - defaults/osx-64::jupyterlab==3.4.4=py39hecd8cb5_0\n",
      "  - defaults/osx-64::datashader==0.14.1=py39hecd8cb5_0\n",
      "  - defaults/osx-64::anaconda==2022.10=py39_0\n",
      "  - defaults/osx-64::hvplot==0.8.0=py39hecd8cb5_0\n",
      "  - defaults/osx-64::python-lsp-black==1.2.1=py39hecd8cb5_0\n",
      "  - defaults/osx-64::bkcharts==0.2=py39hecd8cb5_1\n",
      "  - defaults/osx-64::conda-build==3.22.0=py39hecd8cb5_0\n",
      "  - defaults/osx-64::anaconda-navigator==2.3.2=py39hecd8cb5_0\n",
      "  - defaults/osx-64::_ipyw_jlab_nb_ext_conf==0.1.0=py39hecd8cb5_1\n",
      "  - defaults/osx-64::python-lsp-server==1.5.0=py39hecd8cb5_0\n",
      "  - defaults/osx-64::statsmodels==0.13.2=py39hca72f7f_0\n",
      "  - defaults/osx-64::pylint==2.14.5=py39hecd8cb5_0\n",
      "  - defaults/osx-64::dask==2022.7.0=py39hecd8cb5_0\n",
      "  - defaults/osx-64::jupyter_server==1.18.1=py39hecd8cb5_0\n",
      "  - defaults/osx-64::anaconda-client==1.11.0=py39hecd8cb5_0\n",
      "  - defaults/noarch::jupyterlab_server==2.10.3=pyhd3eb1b0_1\n",
      "  - defaults/osx-64::numpydoc==1.4.0=py39hecd8cb5_0\n",
      "  - defaults/noarch::flask==1.1.2=pyhd3eb1b0_0\n",
      "  - defaults/noarch::intake==0.6.5=pyhd3eb1b0_0\n",
      "  - defaults/osx-64::pandas==1.4.4=py39he9d5cce_0\n",
      "  - defaults/osx-64::jupyter==1.0.0=py39hecd8cb5_8\n",
      "  - defaults/noarch::ipywidgets==7.6.5=pyhd3eb1b0_1\n",
      "  - defaults/osx-64::conda-repo-cli==1.0.20=py39hecd8cb5_0\n",
      "  - defaults/noarch::seaborn==0.11.2=pyhd3eb1b0_0\n",
      "  - defaults/osx-64::spyder==5.3.3=py39hecd8cb5_0\n",
      "  - defaults/osx-64::notebook==6.4.12=py39hecd8cb5_0\n",
      "  - defaults/osx-64::widgetsnbextension==3.5.2=py39hecd8cb5_0\n",
      "  - defaults/noarch::xarray==0.20.1=pyhd3eb1b0_1\n",
      "done\n",
      "\n",
      "## Package Plan ##\n",
      "\n",
      "  environment location: /Users/abhiram/opt/anaconda3\n",
      "\n",
      "  added / updated specs:\n",
      "    - pytorch\n",
      "    - torchvision\n",
      "\n",
      "\n",
      "The following packages will be downloaded:\n",
      "\n",
      "    package                    |            build\n",
      "    ---------------------------|-----------------\n",
      "    _anaconda_depends-2022.10  |           py39_2          69 KB\n",
      "    anaconda-custom            |           py39_1           4 KB\n",
      "    anaconda-navigator-2.4.0   |   py39hecd8cb5_0         6.9 MB\n",
      "    boltons-23.0.0             |   py39hecd8cb5_0         423 KB\n",
      "    ca-certificates-2023.01.10 |       hecd8cb5_0         121 KB\n",
      "    certifi-2022.12.7          |   py39hecd8cb5_0         151 KB\n",
      "    conda-23.3.1               |   py39hecd8cb5_0         962 KB\n",
      "    ffmpeg-4.3                 |       h0a44026_0        10.1 MB  pytorch\n",
      "    gnutls-3.6.15              |       hed9c0bf_0         974 KB\n",
      "    jsonpatch-1.32             |     pyhd3eb1b0_0          15 KB\n",
      "    jsonpointer-2.1            |     pyhd3eb1b0_0           9 KB\n",
      "    lame-3.100                 |       h1de35cc_0         316 KB\n",
      "    libtasn1-4.19.0            |       h6c40b1e_0          67 KB\n",
      "    nettle-3.7.3               |       h230ac6f_1         380 KB\n",
      "    openh264-2.1.1             |       h8346a28_0         655 KB\n",
      "    openssl-1.1.1t             |       hca72f7f_0         3.3 MB\n",
      "    pyobjc-framework-cocoa-8.5 |   py39h6c40b1e_1         326 KB\n",
      "    pytorch-2.0.0              |          py3.9_0        76.4 MB  pytorch\n",
      "    pytz-2022.7                |   py39hecd8cb5_0         210 KB\n",
      "    ruamel.yaml-0.17.21        |   py39hca72f7f_0         179 KB\n",
      "    ruamel.yaml.clib-0.2.6     |   py39hca72f7f_1         126 KB\n",
      "    torchvision-0.15.0         |         py39_cpu         6.4 MB  pytorch\n",
      "    ------------------------------------------------------------\n",
      "                                           Total:       108.0 MB\n",
      "\n",
      "The following NEW packages will be INSTALLED:\n",
      "\n",
      "  _anaconda_depends  pkgs/main/osx-64::_anaconda_depends-2022.10-py39_2 None\n",
      "  argon2-cffi        pkgs/main/noarch::argon2-cffi-21.3.0-pyhd3eb1b0_0 None\n",
      "  black              pkgs/main/osx-64::black-22.6.0-py39hecd8cb5_0 None\n",
      "  boltons            pkgs/main/osx-64::boltons-23.0.0-py39hecd8cb5_0 None\n",
      "  ffmpeg             pytorch/osx-64::ffmpeg-4.3-h0a44026_0 None\n",
      "  flake8             pkgs/main/noarch::flake8-4.0.1-pyhd3eb1b0_1 None\n",
      "  gnutls             pkgs/main/osx-64::gnutls-3.6.15-hed9c0bf_0 None\n",
      "  jsonpatch          pkgs/main/noarch::jsonpatch-1.32-pyhd3eb1b0_0 None\n",
      "  jsonpointer        pkgs/main/noarch::jsonpointer-2.1-pyhd3eb1b0_0 None\n",
      "  lame               pkgs/main/osx-64::lame-3.100-h1de35cc_0 None\n",
      "  libtasn1           pkgs/main/osx-64::libtasn1-4.19.0-h6c40b1e_0 None\n",
      "  mccabe             pkgs/main/noarch::mccabe-0.7.0-pyhd3eb1b0_0 None\n",
      "  nettle             pkgs/main/osx-64::nettle-3.7.3-h230ac6f_1 None\n",
      "  openh264           pkgs/main/osx-64::openh264-2.1.1-h8346a28_0 None\n",
      "  pluggy             pkgs/main/osx-64::pluggy-1.0.0-py39hecd8cb5_1 None\n",
      "  pyflakes           pkgs/main/noarch::pyflakes-2.4.0-pyhd3eb1b0_0 None\n",
      "  pyobjc-core        pkgs/main/osx-64::pyobjc-core-8.5-py39hc55c11b_0 None\n",
      "  pyobjc-framework-~ pkgs/main/osx-64::pyobjc-framework-cocoa-8.5-py39h6c40b1e_1 None\n",
      "  pyobjc-framework-~ pkgs/main/osx-64::pyobjc-framework-coreservices-8.5-py39hca72f7f_0 None\n",
      "  pyobjc-framework-~ pkgs/main/osx-64::pyobjc-framework-fsevents-8.5-py39hecd8cb5_0 None\n",
      "  pytest             pkgs/main/osx-64::pytest-7.1.2-py39hecd8cb5_0 None\n",
      "  python-slugify     pkgs/main/noarch::python-slugify-5.0.2-pyhd3eb1b0_0 None\n",
      "  pytorch            pytorch/osx-64::pytorch-2.0.0-py3.9_0 None\n",
      "  pytz               pkgs/main/osx-64::pytz-2022.7-py39hecd8cb5_0 None\n",
      "  ruamel.yaml        pkgs/main/osx-64::ruamel.yaml-0.17.21-py39hca72f7f_0 None\n",
      "  ruamel.yaml.clib   pkgs/main/osx-64::ruamel.yaml.clib-0.2.6-py39hca72f7f_1 None\n",
      "  sphinx             pkgs/main/osx-64::sphinx-5.0.2-py39hecd8cb5_0 None\n",
      "  torchvision        pytorch/osx-64::torchvision-0.15.0-py39_cpu None\n",
      "  werkzeug           pkgs/main/noarch::werkzeug-2.0.3-pyhd3eb1b0_0 None\n",
      "\n",
      "The following packages will be UPDATED:\n",
      "\n",
      "  anaconda-navigator                   2.3.2-py39hecd8cb5_0 --> 2.4.0-py39hecd8cb5_0 None\n",
      "  ca-certificates                     2022.07.19-hecd8cb5_0 --> 2023.01.10-hecd8cb5_0 None\n",
      "  certifi                          2022.9.24-py39hecd8cb5_0 --> 2022.12.7-py39hecd8cb5_0 None\n",
      "  conda                               22.9.0-py39hecd8cb5_0 --> 23.3.1-py39hecd8cb5_0 None\n",
      "  openssl                                 1.1.1q-hca72f7f_0 --> 1.1.1t-hca72f7f_0 None\n",
      "\n",
      "The following packages will be DOWNGRADED:\n",
      "\n",
      "  anaconda                                   2022.10-py39_0 --> custom-py39_1 None\n",
      "\n",
      "\n",
      "\n",
      "Downloading and Extracting Packages\n"
     ]
    },
    {
     "name": "stdout",
     "output_type": "stream",
     "text": [
      "ffmpeg-4.3           | 10.1 MB   | ##################################### | 100% \n",
      "_anaconda_depends-20 | 69 KB     | ##################################### | 100% \n",
      "nettle-3.7.3         | 380 KB    | ##################################### | 100% \n",
      "openssl-1.1.1t       | 3.3 MB    | ##################################### | 100% \n",
      "anaconda-custom      | 4 KB      | ##################################### | 100% \n",
      "pytorch-2.0.0        | 76.4 MB   | ##################################### | 100% \n",
      "pytz-2022.7          | 210 KB    | ##################################### | 100% \n",
      "certifi-2022.12.7    | 151 KB    | ##################################### | 100% \n",
      "libtasn1-4.19.0      | 67 KB     | ##################################### | 100% \n",
      "lame-3.100           | 316 KB    | ##################################### | 100% \n",
      "openh264-2.1.1       | 655 KB    | ##################################### | 100% \n",
      "gnutls-3.6.15        | 974 KB    | ##################################### | 100% \n",
      "jsonpointer-2.1      | 9 KB      | ##################################### | 100% \n",
      "pyobjc-framework-coc | 326 KB    | ##################################### | 100% \n",
      "torchvision-0.15.0   | 6.4 MB    | ##################################### | 100% \n",
      "anaconda-navigator-2 | 6.9 MB    | ##################################### | 100% \n",
      "conda-23.3.1         | 962 KB    | ##################################### | 100% \n",
      "boltons-23.0.0       | 423 KB    | ##################################### | 100% \n",
      "ca-certificates-2023 | 121 KB    | ##################################### | 100% \n",
      "ruamel.yaml.clib-0.2 | 126 KB    | ##################################### | 100% \n",
      "jsonpatch-1.32       | 15 KB     | ##################################### | 100% \n",
      "ruamel.yaml-0.17.21  | 179 KB    | ##################################### | 100% \n",
      "Preparing transaction: done\n",
      "Verifying transaction: done\n",
      "Executing transaction: done\n",
      "Retrieving notices: ...working... done\n"
     ]
    }
   ],
   "source": [
    "!conda install --yes pytorch torchvision -c pytorch"
   ]
  },
  {
   "cell_type": "code",
   "execution_count": 2,
   "metadata": {},
   "outputs": [
    {
     "name": "stdout",
     "output_type": "stream",
     "text": [
      "Requirement already satisfied: torchvision in /Users/abhiram/opt/anaconda3/lib/python3.9/site-packages (0.15.0)\n",
      "Requirement already satisfied: numpy in /Users/abhiram/opt/anaconda3/lib/python3.9/site-packages (from torchvision) (1.21.5)\n",
      "Requirement already satisfied: requests in /Users/abhiram/opt/anaconda3/lib/python3.9/site-packages (from torchvision) (2.28.1)\n",
      "Requirement already satisfied: torch in /Users/abhiram/opt/anaconda3/lib/python3.9/site-packages (from torchvision) (2.0.0)\n",
      "Requirement already satisfied: pillow!=8.3.*,>=5.3.0 in /Users/abhiram/opt/anaconda3/lib/python3.9/site-packages (from torchvision) (9.2.0)\n",
      "Requirement already satisfied: certifi>=2017.4.17 in /Users/abhiram/opt/anaconda3/lib/python3.9/site-packages (from requests->torchvision) (2022.12.7)\n",
      "Requirement already satisfied: idna<4,>=2.5 in /Users/abhiram/opt/anaconda3/lib/python3.9/site-packages (from requests->torchvision) (3.3)\n",
      "Requirement already satisfied: urllib3<1.27,>=1.21.1 in /Users/abhiram/opt/anaconda3/lib/python3.9/site-packages (from requests->torchvision) (1.26.11)\n",
      "Requirement already satisfied: charset-normalizer<3,>=2 in /Users/abhiram/opt/anaconda3/lib/python3.9/site-packages (from requests->torchvision) (2.0.4)\n",
      "Requirement already satisfied: filelock in /Users/abhiram/opt/anaconda3/lib/python3.9/site-packages (from torch->torchvision) (3.6.0)\n",
      "Requirement already satisfied: typing-extensions in /Users/abhiram/opt/anaconda3/lib/python3.9/site-packages (from torch->torchvision) (4.3.0)\n",
      "Requirement already satisfied: sympy in /Users/abhiram/opt/anaconda3/lib/python3.9/site-packages (from torch->torchvision) (1.10.1)\n",
      "Requirement already satisfied: networkx in /Users/abhiram/opt/anaconda3/lib/python3.9/site-packages (from torch->torchvision) (2.8.4)\n",
      "Requirement already satisfied: jinja2 in /Users/abhiram/opt/anaconda3/lib/python3.9/site-packages (from torch->torchvision) (2.11.3)\n",
      "Requirement already satisfied: MarkupSafe>=0.23 in /Users/abhiram/opt/anaconda3/lib/python3.9/site-packages (from jinja2->torch->torchvision) (2.0.1)\n",
      "Requirement already satisfied: mpmath>=0.19 in /Users/abhiram/opt/anaconda3/lib/python3.9/site-packages (from sympy->torch->torchvision) (1.2.1)\n"
     ]
    }
   ],
   "source": [
    "!pip install torchvision"
   ]
  },
  {
   "cell_type": "code",
   "execution_count": 4,
   "metadata": {
    "scrolled": true
   },
   "outputs": [],
   "source": [
    "import os\n",
    "import numpy as np\n",
    "np.random.seed(666)\n",
    "import torchvision\n",
    "import torchvision.datasets as datasets\n",
    "if not os.path.isdir('data'):\n",
    "    ! mkdir data"
   ]
  },
  {
   "cell_type": "code",
   "execution_count": 6,
   "metadata": {},
   "outputs": [],
   "source": [
    "import torchvision.datasets as datasets\n",
    "mnist_trainset = datasets.MNIST(root='./data', train=True, download=True, transform=None)\n",
    "mnist_testset = datasets.MNIST(root='./data', train=False, download=True, transform=None)"
   ]
  },
  {
   "cell_type": "code",
   "execution_count": 7,
   "metadata": {},
   "outputs": [],
   "source": [
    "x_train = np.array([np.array(img[0])/255. for img in mnist_trainset])\n",
    "y_train = np.array([img[1] for img in mnist_trainset])\n",
    "x_test = np.array([np.array(img[0])/255. for img in mnist_testset])\n",
    "y_test = np.array([img[1] for img in mnist_testset])\n",
    "\n",
    "np.savez('data/cifar10', arr_0=x_train, arr_1=y_train, arr_2=x_test, arr_3=y_test)"
   ]
  },
  {
   "cell_type": "code",
   "execution_count": 9,
   "metadata": {},
   "outputs": [
    {
     "name": "stdout",
     "output_type": "stream",
     "text": [
      "training data shape: (60000, 28, 28), (60000,), testing data shape: (10000, 28, 28), (10000,)\n"
     ]
    }
   ],
   "source": [
    "# load images as queries\n",
    "\n",
    "dataset = np.load('data/cifar10.npz')\n",
    "x_train = dataset['arr_0']\n",
    "y_train = dataset['arr_1']\n",
    "x_test = dataset['arr_2']\n",
    "y_test = dataset['arr_3']\n",
    "\n",
    "print(\"training data shape: {}, {}, testing data shape: {}, {}\".format(x_train.shape, y_train.shape, x_test.shape, y_test.shape))"
   ]
  },
  {
   "cell_type": "markdown",
   "metadata": {},
   "source": [
    "# Start Blacklight detection"
   ]
  },
  {
   "cell_type": "code",
   "execution_count": 10,
   "metadata": {},
   "outputs": [
    {
     "name": "stdout",
     "output_type": "stream",
     "text": [
      "Requirement already satisfied: config in /Users/abhiram/opt/anaconda3/lib/python3.9/site-packages (0.5.1)\r\n"
     ]
    }
   ],
   "source": [
    "!pip install config"
   ]
  },
  {
   "cell_type": "code",
   "execution_count": 11,
   "metadata": {},
   "outputs": [],
   "source": [
    "#!pip install logging"
   ]
  },
  {
   "cell_type": "code",
   "execution_count": 12,
   "metadata": {},
   "outputs": [],
   "source": [
    "from probabilistic_fingerprint import *"
   ]
  },
  {
   "cell_type": "code",
   "execution_count": 13,
   "metadata": {},
   "outputs": [],
   "source": [
    "# parameters for blacklight MNSIT\n",
    "window_size = 50\n",
    "hash_kept = 50\n",
    "roundto = 50\n",
    "step_size = 1\n",
    "workers = 5\n",
    "threshold = 25"
   ]
  },
  {
   "cell_type": "code",
   "execution_count": 14,
   "metadata": {},
   "outputs": [],
   "source": [
    "def get_tracker(query, window_size, hash_kept, roundto, step_size, workers):\n",
    "    tracker = InputTracker(query, window_size, hash_kept, round=roundto, step_size=step_size, workers=workers)\n",
    "    LOGGER.info(\"Blacklight detector created.\")\n",
    "    return tracker"
   ]
  },
  {
   "cell_type": "code",
   "execution_count": 15,
   "metadata": {
    "scrolled": true
   },
   "outputs": [
    {
     "name": "stderr",
     "output_type": "stream",
     "text": [
      "[13:12:46,05/05 /var/folders/93/bmyryj59741dyh2hjbrc92qw0000gn/T/ipykernel_30262/2128301390.py:3 INFO]: Blacklight detector created.\n",
      "[13:12:47,05/05 /var/folders/93/bmyryj59741dyh2hjbrc92qw0000gn/T/ipykernel_30262/2323176259.py:9 INFO]: Image: 597, max match: 27, attack_query: True\n",
      "[13:12:48,05/05 /var/folders/93/bmyryj59741dyh2hjbrc92qw0000gn/T/ipykernel_30262/2323176259.py:9 INFO]: Image: 642, max match: 28, attack_query: True\n",
      "[13:12:48,05/05 /var/folders/93/bmyryj59741dyh2hjbrc92qw0000gn/T/ipykernel_30262/2323176259.py:9 INFO]: Image: 717, max match: 27, attack_query: True\n",
      "[13:12:48,05/05 /var/folders/93/bmyryj59741dyh2hjbrc92qw0000gn/T/ipykernel_30262/2323176259.py:9 INFO]: Image: 1031, max match: 28, attack_query: True\n",
      "[13:12:49,05/05 /var/folders/93/bmyryj59741dyh2hjbrc92qw0000gn/T/ipykernel_30262/2323176259.py:9 INFO]: Image: 1345, max match: 29, attack_query: True\n",
      "[13:12:50,05/05 /var/folders/93/bmyryj59741dyh2hjbrc92qw0000gn/T/ipykernel_30262/2323176259.py:9 INFO]: Image: 1722, max match: 30, attack_query: True\n",
      "[13:12:51,05/05 /var/folders/93/bmyryj59741dyh2hjbrc92qw0000gn/T/ipykernel_30262/2323176259.py:9 INFO]: Image: 1800, max match: 30, attack_query: True\n",
      "[13:12:51,05/05 /var/folders/93/bmyryj59741dyh2hjbrc92qw0000gn/T/ipykernel_30262/2323176259.py:9 INFO]: Image: 1808, max match: 27, attack_query: True\n",
      "[13:12:51,05/05 /var/folders/93/bmyryj59741dyh2hjbrc92qw0000gn/T/ipykernel_30262/2323176259.py:9 INFO]: Image: 1903, max match: 26, attack_query: True\n",
      "[13:12:54,05/05 /var/folders/93/bmyryj59741dyh2hjbrc92qw0000gn/T/ipykernel_30262/2323176259.py:9 INFO]: Image: 2811, max match: 31, attack_query: True\n",
      "[13:12:54,05/05 /var/folders/93/bmyryj59741dyh2hjbrc92qw0000gn/T/ipykernel_30262/2323176259.py:9 INFO]: Image: 2957, max match: 26, attack_query: True\n",
      "[13:12:54,05/05 /var/folders/93/bmyryj59741dyh2hjbrc92qw0000gn/T/ipykernel_30262/2323176259.py:9 INFO]: Image: 2969, max match: 26, attack_query: True\n",
      "[13:12:55,05/05 /var/folders/93/bmyryj59741dyh2hjbrc92qw0000gn/T/ipykernel_30262/2323176259.py:9 INFO]: Image: 3189, max match: 28, attack_query: True\n",
      "[13:12:56,05/05 /var/folders/93/bmyryj59741dyh2hjbrc92qw0000gn/T/ipykernel_30262/2323176259.py:9 INFO]: Image: 3335, max match: 26, attack_query: True\n",
      "[13:12:56,05/05 /var/folders/93/bmyryj59741dyh2hjbrc92qw0000gn/T/ipykernel_30262/2323176259.py:9 INFO]: Image: 3436, max match: 27, attack_query: True\n",
      "[13:12:56,05/05 /var/folders/93/bmyryj59741dyh2hjbrc92qw0000gn/T/ipykernel_30262/2323176259.py:9 INFO]: Image: 3520, max match: 29, attack_query: True\n",
      "[13:12:57,05/05 /var/folders/93/bmyryj59741dyh2hjbrc92qw0000gn/T/ipykernel_30262/2323176259.py:9 INFO]: Image: 3616, max match: 26, attack_query: True\n",
      "[13:12:59,05/05 /var/folders/93/bmyryj59741dyh2hjbrc92qw0000gn/T/ipykernel_30262/2323176259.py:9 INFO]: Image: 4065, max match: 26, attack_query: True\n",
      "[13:12:59,05/05 /var/folders/93/bmyryj59741dyh2hjbrc92qw0000gn/T/ipykernel_30262/2323176259.py:9 INFO]: Image: 4187, max match: 29, attack_query: True\n",
      "[13:13:00,05/05 /var/folders/93/bmyryj59741dyh2hjbrc92qw0000gn/T/ipykernel_30262/2323176259.py:9 INFO]: Image: 4302, max match: 26, attack_query: True\n",
      "[13:13:01,05/05 /var/folders/93/bmyryj59741dyh2hjbrc92qw0000gn/T/ipykernel_30262/2323176259.py:9 INFO]: Image: 4583, max match: 26, attack_query: True\n",
      "[13:13:01,05/05 /var/folders/93/bmyryj59741dyh2hjbrc92qw0000gn/T/ipykernel_30262/2323176259.py:9 INFO]: Image: 4656, max match: 26, attack_query: True\n",
      "[13:13:01,05/05 /var/folders/93/bmyryj59741dyh2hjbrc92qw0000gn/T/ipykernel_30262/2323176259.py:9 INFO]: Image: 4722, max match: 30, attack_query: True\n",
      "[13:13:03,05/05 /var/folders/93/bmyryj59741dyh2hjbrc92qw0000gn/T/ipykernel_30262/2323176259.py:9 INFO]: Image: 5083, max match: 26, attack_query: True\n",
      "[13:13:03,05/05 /var/folders/93/bmyryj59741dyh2hjbrc92qw0000gn/T/ipykernel_30262/2323176259.py:9 INFO]: Image: 5111, max match: 26, attack_query: True\n",
      "[13:13:10,05/05 /var/folders/93/bmyryj59741dyh2hjbrc92qw0000gn/T/ipykernel_30262/2323176259.py:9 INFO]: Image: 6418, max match: 28, attack_query: True\n",
      "[13:13:11,05/05 /var/folders/93/bmyryj59741dyh2hjbrc92qw0000gn/T/ipykernel_30262/2323176259.py:9 INFO]: Image: 6611, max match: 27, attack_query: True\n",
      "[13:13:11,05/05 /var/folders/93/bmyryj59741dyh2hjbrc92qw0000gn/T/ipykernel_30262/2323176259.py:9 INFO]: Image: 6716, max match: 26, attack_query: True\n",
      "[13:13:11,05/05 /var/folders/93/bmyryj59741dyh2hjbrc92qw0000gn/T/ipykernel_30262/2323176259.py:9 INFO]: Image: 6721, max match: 29, attack_query: True\n",
      "[13:13:12,05/05 /var/folders/93/bmyryj59741dyh2hjbrc92qw0000gn/T/ipykernel_30262/2323176259.py:9 INFO]: Image: 6744, max match: 26, attack_query: True\n",
      "[13:13:12,05/05 /var/folders/93/bmyryj59741dyh2hjbrc92qw0000gn/T/ipykernel_30262/2323176259.py:9 INFO]: Image: 6746, max match: 30, attack_query: True\n",
      "[13:13:12,05/05 /var/folders/93/bmyryj59741dyh2hjbrc92qw0000gn/T/ipykernel_30262/2323176259.py:9 INFO]: Image: 6785, max match: 29, attack_query: True\n",
      "[13:13:12,05/05 /var/folders/93/bmyryj59741dyh2hjbrc92qw0000gn/T/ipykernel_30262/2323176259.py:9 INFO]: Image: 6788, max match: 31, attack_query: True\n",
      "[13:13:14,05/05 /var/folders/93/bmyryj59741dyh2hjbrc92qw0000gn/T/ipykernel_30262/2323176259.py:9 INFO]: Image: 7195, max match: 26, attack_query: True\n",
      "[13:13:14,05/05 /var/folders/93/bmyryj59741dyh2hjbrc92qw0000gn/T/ipykernel_30262/2323176259.py:9 INFO]: Image: 7212, max match: 27, attack_query: True\n",
      "[13:13:14,05/05 /var/folders/93/bmyryj59741dyh2hjbrc92qw0000gn/T/ipykernel_30262/2323176259.py:9 INFO]: Image: 7229, max match: 31, attack_query: True\n",
      "[13:13:14,05/05 /var/folders/93/bmyryj59741dyh2hjbrc92qw0000gn/T/ipykernel_30262/2323176259.py:9 INFO]: Image: 7235, max match: 28, attack_query: True\n",
      "[13:13:14,05/05 /var/folders/93/bmyryj59741dyh2hjbrc92qw0000gn/T/ipykernel_30262/2323176259.py:9 INFO]: Image: 7240, max match: 30, attack_query: True\n",
      "[13:13:14,05/05 /var/folders/93/bmyryj59741dyh2hjbrc92qw0000gn/T/ipykernel_30262/2323176259.py:9 INFO]: Image: 7241, max match: 26, attack_query: True\n",
      "[13:13:14,05/05 /var/folders/93/bmyryj59741dyh2hjbrc92qw0000gn/T/ipykernel_30262/2323176259.py:9 INFO]: Image: 7249, max match: 26, attack_query: True\n",
      "[13:13:16,05/05 /var/folders/93/bmyryj59741dyh2hjbrc92qw0000gn/T/ipykernel_30262/2323176259.py:9 INFO]: Image: 7451, max match: 26, attack_query: True\n",
      "[13:13:16,05/05 /var/folders/93/bmyryj59741dyh2hjbrc92qw0000gn/T/ipykernel_30262/2323176259.py:9 INFO]: Image: 7454, max match: 30, attack_query: True\n",
      "[13:13:16,05/05 /var/folders/93/bmyryj59741dyh2hjbrc92qw0000gn/T/ipykernel_30262/2323176259.py:9 INFO]: Image: 7469, max match: 26, attack_query: True\n",
      "[13:13:16,05/05 /var/folders/93/bmyryj59741dyh2hjbrc92qw0000gn/T/ipykernel_30262/2323176259.py:9 INFO]: Image: 7521, max match: 31, attack_query: True\n",
      "[13:13:16,05/05 /var/folders/93/bmyryj59741dyh2hjbrc92qw0000gn/T/ipykernel_30262/2323176259.py:9 INFO]: Image: 7541, max match: 29, attack_query: True\n",
      "[13:13:16,05/05 /var/folders/93/bmyryj59741dyh2hjbrc92qw0000gn/T/ipykernel_30262/2323176259.py:9 INFO]: Image: 7577, max match: 29, attack_query: True\n",
      "[13:13:17,05/05 /var/folders/93/bmyryj59741dyh2hjbrc92qw0000gn/T/ipykernel_30262/2323176259.py:9 INFO]: Image: 7686, max match: 26, attack_query: True\n",
      "[13:13:18,05/05 /var/folders/93/bmyryj59741dyh2hjbrc92qw0000gn/T/ipykernel_30262/2323176259.py:9 INFO]: Image: 7826, max match: 26, attack_query: True\n",
      "[13:13:18,05/05 /var/folders/93/bmyryj59741dyh2hjbrc92qw0000gn/T/ipykernel_30262/2323176259.py:9 INFO]: Image: 7859, max match: 26, attack_query: True\n",
      "[13:13:18,05/05 /var/folders/93/bmyryj59741dyh2hjbrc92qw0000gn/T/ipykernel_30262/2323176259.py:9 INFO]: Image: 7870, max match: 30, attack_query: True\n",
      "[13:13:18,05/05 /var/folders/93/bmyryj59741dyh2hjbrc92qw0000gn/T/ipykernel_30262/2323176259.py:9 INFO]: Image: 7888, max match: 29, attack_query: True\n",
      "[13:13:18,05/05 /var/folders/93/bmyryj59741dyh2hjbrc92qw0000gn/T/ipykernel_30262/2323176259.py:9 INFO]: Image: 7918, max match: 28, attack_query: True\n",
      "[13:13:18,05/05 /var/folders/93/bmyryj59741dyh2hjbrc92qw0000gn/T/ipykernel_30262/2323176259.py:9 INFO]: Image: 7921, max match: 27, attack_query: True\n",
      "[13:13:19,05/05 /var/folders/93/bmyryj59741dyh2hjbrc92qw0000gn/T/ipykernel_30262/2323176259.py:9 INFO]: Image: 7996, max match: 28, attack_query: True\n"
     ]
    },
    {
     "name": "stderr",
     "output_type": "stream",
     "text": [
      "[13:13:20,05/05 /var/folders/93/bmyryj59741dyh2hjbrc92qw0000gn/T/ipykernel_30262/2323176259.py:9 INFO]: Image: 8139, max match: 26, attack_query: True\n",
      "[13:13:20,05/05 /var/folders/93/bmyryj59741dyh2hjbrc92qw0000gn/T/ipykernel_30262/2323176259.py:9 INFO]: Image: 8158, max match: 26, attack_query: True\n",
      "[13:13:20,05/05 /var/folders/93/bmyryj59741dyh2hjbrc92qw0000gn/T/ipykernel_30262/2323176259.py:9 INFO]: Image: 8165, max match: 28, attack_query: True\n",
      "[13:13:20,05/05 /var/folders/93/bmyryj59741dyh2hjbrc92qw0000gn/T/ipykernel_30262/2323176259.py:9 INFO]: Image: 8183, max match: 26, attack_query: True\n",
      "[13:13:20,05/05 /var/folders/93/bmyryj59741dyh2hjbrc92qw0000gn/T/ipykernel_30262/2323176259.py:9 INFO]: Image: 8198, max match: 30, attack_query: True\n",
      "[13:13:20,05/05 /var/folders/93/bmyryj59741dyh2hjbrc92qw0000gn/T/ipykernel_30262/2323176259.py:9 INFO]: Image: 8225, max match: 26, attack_query: True\n",
      "[13:13:21,05/05 /var/folders/93/bmyryj59741dyh2hjbrc92qw0000gn/T/ipykernel_30262/2323176259.py:9 INFO]: Image: 8253, max match: 26, attack_query: True\n",
      "[13:13:21,05/05 /var/folders/93/bmyryj59741dyh2hjbrc92qw0000gn/T/ipykernel_30262/2323176259.py:9 INFO]: Image: 8273, max match: 28, attack_query: True\n",
      "[13:13:21,05/05 /var/folders/93/bmyryj59741dyh2hjbrc92qw0000gn/T/ipykernel_30262/2323176259.py:9 INFO]: Image: 8275, max match: 27, attack_query: True\n",
      "[13:13:21,05/05 /var/folders/93/bmyryj59741dyh2hjbrc92qw0000gn/T/ipykernel_30262/2323176259.py:9 INFO]: Image: 8278, max match: 27, attack_query: True\n",
      "[13:13:21,05/05 /var/folders/93/bmyryj59741dyh2hjbrc92qw0000gn/T/ipykernel_30262/2323176259.py:9 INFO]: Image: 8327, max match: 26, attack_query: True\n",
      "[13:13:21,05/05 /var/folders/93/bmyryj59741dyh2hjbrc92qw0000gn/T/ipykernel_30262/2323176259.py:9 INFO]: Image: 8331, max match: 26, attack_query: True\n",
      "[13:13:21,05/05 /var/folders/93/bmyryj59741dyh2hjbrc92qw0000gn/T/ipykernel_30262/2323176259.py:9 INFO]: Image: 8339, max match: 30, attack_query: True\n",
      "[13:13:21,05/05 /var/folders/93/bmyryj59741dyh2hjbrc92qw0000gn/T/ipykernel_30262/2323176259.py:9 INFO]: Image: 8381, max match: 26, attack_query: True\n",
      "[13:13:21,05/05 /var/folders/93/bmyryj59741dyh2hjbrc92qw0000gn/T/ipykernel_30262/2323176259.py:9 INFO]: Image: 8382, max match: 26, attack_query: True\n",
      "[13:13:22,05/05 /var/folders/93/bmyryj59741dyh2hjbrc92qw0000gn/T/ipykernel_30262/2323176259.py:9 INFO]: Image: 8408, max match: 29, attack_query: True\n",
      "[13:13:22,05/05 /var/folders/93/bmyryj59741dyh2hjbrc92qw0000gn/T/ipykernel_30262/2323176259.py:9 INFO]: Image: 8444, max match: 28, attack_query: True\n",
      "[13:13:22,05/05 /var/folders/93/bmyryj59741dyh2hjbrc92qw0000gn/T/ipykernel_30262/2323176259.py:9 INFO]: Image: 8513, max match: 27, attack_query: True\n",
      "[13:13:25,05/05 /var/folders/93/bmyryj59741dyh2hjbrc92qw0000gn/T/ipykernel_30262/2323176259.py:9 INFO]: Image: 8948, max match: 26, attack_query: True\n",
      "[13:13:26,05/05 /var/folders/93/bmyryj59741dyh2hjbrc92qw0000gn/T/ipykernel_30262/2323176259.py:9 INFO]: Image: 9013, max match: 30, attack_query: True\n",
      "[13:13:26,05/05 /var/folders/93/bmyryj59741dyh2hjbrc92qw0000gn/T/ipykernel_30262/2323176259.py:9 INFO]: Image: 9051, max match: 30, attack_query: True\n",
      "[13:13:27,05/05 /var/folders/93/bmyryj59741dyh2hjbrc92qw0000gn/T/ipykernel_30262/2323176259.py:9 INFO]: Image: 9194, max match: 26, attack_query: True\n",
      "[13:13:28,05/05 /var/folders/93/bmyryj59741dyh2hjbrc92qw0000gn/T/ipykernel_30262/2323176259.py:9 INFO]: Image: 9234, max match: 30, attack_query: True\n",
      "[13:13:29,05/05 /var/folders/93/bmyryj59741dyh2hjbrc92qw0000gn/T/ipykernel_30262/2323176259.py:9 INFO]: Image: 9446, max match: 29, attack_query: True\n",
      "[13:13:29,05/05 /var/folders/93/bmyryj59741dyh2hjbrc92qw0000gn/T/ipykernel_30262/2323176259.py:9 INFO]: Image: 9456, max match: 27, attack_query: True\n",
      "[13:13:29,05/05 /var/folders/93/bmyryj59741dyh2hjbrc92qw0000gn/T/ipykernel_30262/2323176259.py:9 INFO]: Image: 9477, max match: 27, attack_query: True\n",
      "[13:13:30,05/05 /var/folders/93/bmyryj59741dyh2hjbrc92qw0000gn/T/ipykernel_30262/2323176259.py:9 INFO]: Image: 9595, max match: 27, attack_query: True\n",
      "[13:13:30,05/05 /var/folders/93/bmyryj59741dyh2hjbrc92qw0000gn/T/ipykernel_30262/2323176259.py:9 INFO]: Image: 9600, max match: 27, attack_query: True\n",
      "[13:13:31,05/05 /var/folders/93/bmyryj59741dyh2hjbrc92qw0000gn/T/ipykernel_30262/2323176259.py:9 INFO]: Image: 9656, max match: 27, attack_query: True\n",
      "[13:13:31,05/05 /var/folders/93/bmyryj59741dyh2hjbrc92qw0000gn/T/ipykernel_30262/2323176259.py:9 INFO]: Image: 9709, max match: 26, attack_query: True\n",
      "[13:13:31,05/05 /var/folders/93/bmyryj59741dyh2hjbrc92qw0000gn/T/ipykernel_30262/2323176259.py:9 INFO]: Image: 9754, max match: 26, attack_query: True\n",
      "[13:13:32,05/05 /var/folders/93/bmyryj59741dyh2hjbrc92qw0000gn/T/ipykernel_30262/2323176259.py:9 INFO]: Image: 9907, max match: 30, attack_query: True\n"
     ]
    }
   ],
   "source": [
    "# create a tracker as detector and detect malicious queries\n",
    "tracker = get_tracker(x_train[0], window_size, hash_kept, roundto, step_size, workers)\n",
    "match_list = []\n",
    "id = 0\n",
    "for query in x_test:\n",
    "    match_num = tracker.add_img(query)\n",
    "    match_list.append(match_num)\n",
    "    if(match_num>threshold):\n",
    "        LOGGER.info(\"Image: {}, max match: {}, attack_query: {}\".format(id, match_num, match_num>threshold))\n",
    "    id += 1"
   ]
  },
  {
   "cell_type": "code",
   "execution_count": 18,
   "metadata": {},
   "outputs": [
    {
     "name": "stderr",
     "output_type": "stream",
     "text": [
      "[13:14:34,05/05 /var/folders/93/bmyryj59741dyh2hjbrc92qw0000gn/T/ipykernel_30262/3485651310.py:2 INFO]: False positive rate on CiFAR-10 test dataset: 0.0086\n"
     ]
    }
   ],
   "source": [
    "# calculate false positive rate\n",
    "LOGGER.info(\"False positive rate on MNSIT test dataset: {}\".format(np.sum([1 for i in match_list if i > threshold])/len(x_test)))"
   ]
  },
  {
   "cell_type": "code",
   "execution_count": null,
   "metadata": {},
   "outputs": [],
   "source": []
  }
 ],
 "metadata": {
  "kernelspec": {
   "display_name": "Python 3 (ipykernel)",
   "language": "python",
   "name": "python3"
  },
  "language_info": {
   "codemirror_mode": {
    "name": "ipython",
    "version": 3
   },
   "file_extension": ".py",
   "mimetype": "text/x-python",
   "name": "python",
   "nbconvert_exporter": "python",
   "pygments_lexer": "ipython3",
   "version": "3.9.13"
  },
  "vscode": {
   "interpreter": {
    "hash": "a175c5042298ce747346d2255b40959e61b000e47dd58b268f214af351ee8cea"
   }
  }
 },
 "nbformat": 4,
 "nbformat_minor": 4
}
