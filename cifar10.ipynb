{
 "cells": [
  {
   "cell_type": "markdown",
   "metadata": {},
   "source": [
    "# Data preparation"
   ]
  },
  {
   "cell_type": "code",
   "execution_count": 1,
   "metadata": {},
   "outputs": [
    {
     "name": "stdout",
     "output_type": "stream",
     "text": [
      "Retrieving notices: ...working... done\n",
      "Collecting package metadata (current_repodata.json): done\n",
      "Solving environment: done\n",
      "\n",
      "# All requested packages already installed.\n",
      "\n"
     ]
    }
   ],
   "source": [
    "!conda install --yes pytorch torchvision -c pytorch"
   ]
  },
  {
   "cell_type": "code",
   "execution_count": 2,
   "metadata": {},
   "outputs": [
    {
     "name": "stdout",
     "output_type": "stream",
     "text": [
      "Requirement already satisfied: torchvision in /Users/abhiram/opt/anaconda3/lib/python3.9/site-packages (0.15.0)\n",
      "Requirement already satisfied: numpy in /Users/abhiram/opt/anaconda3/lib/python3.9/site-packages (from torchvision) (1.21.5)\n",
      "Requirement already satisfied: requests in /Users/abhiram/opt/anaconda3/lib/python3.9/site-packages (from torchvision) (2.28.1)\n",
      "Requirement already satisfied: torch in /Users/abhiram/opt/anaconda3/lib/python3.9/site-packages (from torchvision) (2.0.0)\n",
      "Requirement already satisfied: pillow!=8.3.*,>=5.3.0 in /Users/abhiram/opt/anaconda3/lib/python3.9/site-packages (from torchvision) (9.2.0)\n",
      "Requirement already satisfied: charset-normalizer<3,>=2 in /Users/abhiram/opt/anaconda3/lib/python3.9/site-packages (from requests->torchvision) (2.0.4)\n",
      "Requirement already satisfied: certifi>=2017.4.17 in /Users/abhiram/opt/anaconda3/lib/python3.9/site-packages (from requests->torchvision) (2022.12.7)\n",
      "Requirement already satisfied: urllib3<1.27,>=1.21.1 in /Users/abhiram/opt/anaconda3/lib/python3.9/site-packages (from requests->torchvision) (1.26.11)\n",
      "Requirement already satisfied: idna<4,>=2.5 in /Users/abhiram/opt/anaconda3/lib/python3.9/site-packages (from requests->torchvision) (3.3)\n",
      "Requirement already satisfied: filelock in /Users/abhiram/opt/anaconda3/lib/python3.9/site-packages (from torch->torchvision) (3.6.0)\n",
      "Requirement already satisfied: typing-extensions in /Users/abhiram/opt/anaconda3/lib/python3.9/site-packages (from torch->torchvision) (4.3.0)\n",
      "Requirement already satisfied: sympy in /Users/abhiram/opt/anaconda3/lib/python3.9/site-packages (from torch->torchvision) (1.10.1)\n",
      "Requirement already satisfied: networkx in /Users/abhiram/opt/anaconda3/lib/python3.9/site-packages (from torch->torchvision) (2.8.4)\n",
      "Requirement already satisfied: jinja2 in /Users/abhiram/opt/anaconda3/lib/python3.9/site-packages (from torch->torchvision) (2.11.3)\n",
      "Requirement already satisfied: MarkupSafe>=0.23 in /Users/abhiram/opt/anaconda3/lib/python3.9/site-packages (from jinja2->torch->torchvision) (2.0.1)\n",
      "Requirement already satisfied: mpmath>=0.19 in /Users/abhiram/opt/anaconda3/lib/python3.9/site-packages (from sympy->torch->torchvision) (1.2.1)\n"
     ]
    }
   ],
   "source": [
    "!pip install torchvision"
   ]
  },
  {
   "cell_type": "code",
   "execution_count": 3,
   "metadata": {
    "scrolled": true
   },
   "outputs": [],
   "source": [
    "import os\n",
    "import numpy as np\n",
    "np.random.seed(666)\n",
    "import torchvision\n",
    "if not os.path.isdir('data'):\n",
    "    ! mkdir data"
   ]
  },
  {
   "cell_type": "code",
   "execution_count": 4,
   "metadata": {},
   "outputs": [
    {
     "name": "stdout",
     "output_type": "stream",
     "text": [
      "Files already downloaded and verified\n",
      "Files already downloaded and verified\n"
     ]
    }
   ],
   "source": [
    "import torchvision.datasets as datasets\n",
    "cifar10_trainset = datasets.CIFAR10(root='./data', train=True, download=True, transform=None)\n",
    "cifar10_testset = datasets.CIFAR10(root='./data', train=False, download=True, transform=None)"
   ]
  },
  {
   "cell_type": "code",
   "execution_count": 5,
   "metadata": {},
   "outputs": [],
   "source": [
    "x_train = np.array([np.array(img[0])/255. for img in cifar10_trainset])\n",
    "y_train = np.array([img[1] for img in cifar10_trainset])\n",
    "x_test = np.array([np.array(img[0])/255. for img in cifar10_testset])\n",
    "y_test = np.array([img[1] for img in cifar10_testset])\n",
    "\n",
    "np.savez('data/cifar10', arr_0=x_train, arr_1=y_train, arr_2=x_test, arr_3=y_test)"
   ]
  },
  {
   "cell_type": "code",
   "execution_count": 6,
   "metadata": {},
   "outputs": [
    {
     "name": "stdout",
     "output_type": "stream",
     "text": [
      "training data shape: (50000, 32, 32, 3), (50000,), testing data shape: (10000, 32, 32, 3), (10000,)\n"
     ]
    }
   ],
   "source": [
    "# load images as queries\n",
    "\n",
    "dataset = np.load('data/cifar10.npz')\n",
    "x_train = dataset['arr_0']\n",
    "y_train = dataset['arr_1']\n",
    "x_test = dataset['arr_2']\n",
    "y_test = dataset['arr_3']\n",
    "\n",
    "print(\"training data shape: {}, {}, testing data shape: {}, {}\".format(x_train.shape, y_train.shape, x_test.shape, y_test.shape))"
   ]
  },
  {
   "cell_type": "markdown",
   "metadata": {},
   "source": [
    "# Start Blacklight detection"
   ]
  },
  {
   "cell_type": "code",
   "execution_count": 7,
   "metadata": {},
   "outputs": [
    {
     "name": "stdout",
     "output_type": "stream",
     "text": [
      "Requirement already satisfied: config in /Users/abhiram/opt/anaconda3/lib/python3.9/site-packages (0.5.1)\r\n"
     ]
    }
   ],
   "source": [
    "!pip install config"
   ]
  },
  {
   "cell_type": "code",
   "execution_count": 8,
   "metadata": {},
   "outputs": [],
   "source": [
    "#!pip install logging"
   ]
  },
  {
   "cell_type": "code",
   "execution_count": 9,
   "metadata": {},
   "outputs": [],
   "source": [
    "from probabilistic_fingerprint import *"
   ]
  },
  {
   "cell_type": "code",
   "execution_count": 10,
   "metadata": {},
   "outputs": [],
   "source": [
    "# parameters for blacklight CIFAR10\n",
    "window_size = 20\n",
    "hash_kept = 50\n",
    "roundto = 50\n",
    "step_size = 1\n",
    "workers = 5\n",
    "threshold = 25"
   ]
  },
  {
   "cell_type": "code",
   "execution_count": 11,
   "metadata": {},
   "outputs": [],
   "source": [
    "def get_tracker(query, window_size, hash_kept, roundto, step_size, workers):\n",
    "    tracker = InputTracker(query, window_size, hash_kept, round=roundto, step_size=step_size, workers=workers)\n",
    "    LOGGER.info(\"Blacklight detector created.\")\n",
    "    return tracker"
   ]
  },
  {
   "cell_type": "code",
   "execution_count": 12,
   "metadata": {
    "scrolled": true
   },
   "outputs": [
    {
     "name": "stderr",
     "output_type": "stream",
     "text": [
      "[18:06:36,05/05 /var/folders/93/bmyryj59741dyh2hjbrc92qw0000gn/T/ipykernel_34671/2128301390.py:3 INFO]: Blacklight detector created.\n"
     ]
    }
   ],
   "source": [
    "# create a tracker as detector and detect malicious queries\n",
    "tracker = get_tracker(x_train[0], window_size, hash_kept, roundto, step_size, workers)\n",
    "match_list = []\n",
    "id = 0\n",
    "for query in x_test:\n",
    "    match_num = tracker.add_img(query)\n",
    "    match_list.append(match_num)\n",
    "    if(match_num>threshold):\n",
    "        LOGGER.info(\"Image: {}, max match: {}, attack_query: {}\".format(id, match_num, match_num>threshold))\n",
    "    id += 1"
   ]
  },
  {
   "cell_type": "code",
   "execution_count": 13,
   "metadata": {},
   "outputs": [
    {
     "name": "stderr",
     "output_type": "stream",
     "text": [
      "[18:07:25,05/05 /var/folders/93/bmyryj59741dyh2hjbrc92qw0000gn/T/ipykernel_34671/3485651310.py:2 INFO]: False positive rate on CiFAR-10 test dataset: 0.0\n"
     ]
    }
   ],
   "source": [
    "# calculate false positive rate\n",
    "LOGGER.info(\"False positive rate on CiFAR-10 test dataset: {}\".format(np.sum([1 for i in match_list if i > threshold])/len(x_test)))"
   ]
  },
  {
   "cell_type": "code",
   "execution_count": null,
   "metadata": {},
   "outputs": [],
   "source": []
  }
 ],
 "metadata": {
  "kernelspec": {
   "display_name": "Python 3 (ipykernel)",
   "language": "python",
   "name": "python3"
  },
  "language_info": {
   "codemirror_mode": {
    "name": "ipython",
    "version": 3
   },
   "file_extension": ".py",
   "mimetype": "text/x-python",
   "name": "python",
   "nbconvert_exporter": "python",
   "pygments_lexer": "ipython3",
   "version": "3.9.13"
  },
  "vscode": {
   "interpreter": {
    "hash": "a175c5042298ce747346d2255b40959e61b000e47dd58b268f214af351ee8cea"
   }
  }
 },
 "nbformat": 4,
 "nbformat_minor": 4
}
